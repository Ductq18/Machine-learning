{
  "nbformat": 4,
  "nbformat_minor": 0,
  "metadata": {
    "colab": {
      "name": "LogisticRegression.ipynb",
      "provenance": []
    },
    "kernelspec": {
      "name": "python3",
      "display_name": "Python 3"
    },
    "language_info": {
      "name": "python"
    }
  },
  "cells": [
    {
      "cell_type": "markdown",
      "metadata": {
        "id": "jbBfHQ-p89VJ"
      },
      "source": [
        "# Logistic Regression with sklearn\n",
        "\n"
      ]
    },
    {
      "cell_type": "markdown",
      "metadata": {
        "id": "ToMSQvBy9I9c"
      },
      "source": [
        "Lấy data từ drive\n",
        "\n",
        "\n"
      ]
    },
    {
      "cell_type": "code",
      "metadata": {
        "colab": {
          "base_uri": "https://localhost:8080/"
        },
        "id": "bCErKXvc5KJB",
        "outputId": "f4a163a9-01b8-428d-cdf9-c6b996b36028"
      },
      "source": [
        "from google.colab import drive\n",
        "drive.mount('/content/drive')"
      ],
      "execution_count": null,
      "outputs": [
        {
          "output_type": "stream",
          "name": "stdout",
          "text": [
            "Drive already mounted at /content/drive; to attempt to forcibly remount, call drive.mount(\"/content/drive\", force_remount=True).\n"
          ]
        }
      ]
    },
    {
      "cell_type": "markdown",
      "metadata": {
        "id": "6DYp0btB9OdH"
      },
      "source": [
        "thêm cách thư viện cần thiết"
      ]
    },
    {
      "cell_type": "code",
      "metadata": {
        "id": "c3S4vMYN8UD2"
      },
      "source": [
        "import numpy as np\n",
        "import pandas as pd\n",
        "import matplotlib.pyplot as plt\n",
        "from sklearn.linear_model import LogisticRegression\n",
        "from sklearn import datasets"
      ],
      "execution_count": null,
      "outputs": []
    },
    {
      "cell_type": "markdown",
      "metadata": {
        "id": "_U4To8Dy-otl"
      },
      "source": [
        "Bài toán tỉ lệ pass môn dựa theo số giờ học <= 12\n",
        "\n",
        "---\n",
        "1 = pass , 0 = bis"
      ]
    },
    {
      "cell_type": "code",
      "metadata": {
        "colab": {
          "base_uri": "https://localhost:8080/"
        },
        "id": "4OI77njO83x-",
        "outputId": "9ebfaa3e-a86f-4017-fb1f-a567bec95619"
      },
      "source": [
        "raw = pd.read_csv(\"/content/drive/My Drive/Data/Logistic_regression_1.csv\")\n",
        "raw.values"
      ],
      "execution_count": null,
      "outputs": [
        {
          "output_type": "execute_result",
          "data": {
            "text/plain": [
              "array([[ 2.75,  0.  ],\n",
              "       [ 0.75,  0.  ],\n",
              "       [ 3.  ,  1.  ],\n",
              "       [ 1.  ,  0.  ],\n",
              "       [ 3.25,  0.  ],\n",
              "       [ 1.25,  0.  ],\n",
              "       [ 3.5 ,  0.  ],\n",
              "       [ 1.5 ,  0.  ],\n",
              "       [ 4.  ,  0.  ],\n",
              "       [ 1.75,  0.  ],\n",
              "       [ 5.25,  1.  ],\n",
              "       [ 1.75,  0.  ],\n",
              "       [ 4.5 ,  0.  ],\n",
              "       [ 2.  ,  0.  ],\n",
              "       [ 4.75,  1.  ],\n",
              "       [ 2.25,  0.  ],\n",
              "       [ 5.  ,  1.  ],\n",
              "       [ 2.5 ,  0.  ],\n",
              "       [ 5.5 ,  1.  ],\n",
              "       [ 7.  ,  1.  ],\n",
              "       [ 9.  ,  1.  ],\n",
              "       [ 5.75,  0.  ],\n",
              "       [ 8.25,  1.  ],\n",
              "       [11.  ,  1.  ],\n",
              "       [11.5 ,  1.  ],\n",
              "       [ 4.5 ,  0.  ],\n",
              "       [ 6.  ,  0.  ],\n",
              "       [ 6.75,  0.  ],\n",
              "       [10.25,  1.  ],\n",
              "       [ 7.75,  1.  ],\n",
              "       [12.  ,  1.  ],\n",
              "       [ 7.25,  0.  ],\n",
              "       [ 6.  ,  1.  ],\n",
              "       [ 6.75,  1.  ],\n",
              "       [ 6.  ,  1.  ],\n",
              "       [ 9.2 ,  1.  ],\n",
              "       [ 8.4 ,  1.  ]])"
            ]
          },
          "metadata": {},
          "execution_count": 124
        }
      ]
    },
    {
      "cell_type": "code",
      "metadata": {
        "colab": {
          "base_uri": "https://localhost:8080/"
        },
        "id": "Dt8_Qx7e-3eM",
        "outputId": "b5c6a6ec-279f-421d-fe95-2c7a280e361b"
      },
      "source": [
        "X = np.copy(raw)\n",
        "X[:,1] = X[:,0]\n",
        "X[:,0] = 1\n",
        "#X = raw.values[:,0]\n",
        "Y = raw.values[:,1]\n",
        "model = LogisticRegression(fit_intercept=True)\n",
        "model.fit(X,Y)\n"
      ],
      "execution_count": null,
      "outputs": [
        {
          "output_type": "execute_result",
          "data": {
            "text/plain": [
              "LogisticRegression()"
            ]
          },
          "metadata": {},
          "execution_count": 206
        }
      ]
    },
    {
      "cell_type": "code",
      "metadata": {
        "colab": {
          "base_uri": "https://localhost:8080/"
        },
        "id": "_3dr5WrB_zag",
        "outputId": "f2390b36-1290-4196-b0fe-1c046ae9e32f"
      },
      "source": [
        "inp = '1,'+input(\"Enter study time:\")\n",
        "\n",
        "print(model.predict_proba([np.fromstring(inp,dtype = float,sep=',')])[:,1])"
      ],
      "execution_count": null,
      "outputs": [
        {
          "output_type": "stream",
          "name": "stdout",
          "text": [
            "Enter study time:5\n",
            "[0.43455237]\n"
          ]
        }
      ]
    },
    {
      "cell_type": "code",
      "metadata": {
        "colab": {
          "base_uri": "https://localhost:8080/",
          "height": 282
        },
        "id": "BSWMIEj6BJO-",
        "outputId": "6d0627c3-b4c0-4a45-aa2c-bdaa304afaf6"
      },
      "source": [
        "print(model.score(X,Y))\n",
        "plt.figure(1)\n",
        "plt.plot(X[:,1],Y,'rx')\n",
        "xx = np.ones((150,2),dtype=float)\n",
        "xx[:,1] = np.linspace(0,12,150)\n",
        "yy = model.predict_proba(xx)[:,1]\n",
        "plt.plot(xx[:,1],yy,'bo')\n",
        "#plt.plot(X[:,1],model.predict_proba(X)[:,1],'bo')\n",
        "plt.show()"
      ],
      "execution_count": null,
      "outputs": [
        {
          "output_type": "stream",
          "name": "stdout",
          "text": [
            "0.7837837837837838\n"
          ]
        },
        {
          "output_type": "display_data",
          "data": {
            "image/png": "[encoded data removed]",
            "text/plain": [
              "<Figure size 432x288 with 1 Axes>"
            ]
          },
          "metadata": {
            "needs_background": "light"
          }
        }
      ]
    },
    {
      "cell_type": "code",
      "metadata": {
        "colab": {
          "base_uri": "https://localhost:8080/"
        },
        "id": "9fTPnwzWq5Gz",
        "outputId": "2f388771-c6e5-44e7-a5c3-30864ec3f443"
      },
      "source": [
        "((1-0.01)**3-(1+0.01)**3)/0.02"
      ],
      "execution_count": null,
      "outputs": [
        {
          "output_type": "execute_result",
          "data": {
            "text/plain": [
              "-3.0001000000000055"
            ]
          },
          "metadata": {},
          "execution_count": 204
        }
      ]
    },
    {
      "cell_type": "code",
      "metadata": {
        "id": "aMifbnsptdEb"
      },
      "source": [
        ""
      ],
      "execution_count": null,
      "outputs": []
    },
    {
      "cell_type": "markdown",
      "metadata": {
        "id": "0AXvDDt8teAq"
      },
      "source": [
        "#Logistic regression without library"
      ]
    },
    {
      "cell_type": "code",
      "metadata": {
        "id": "b7cywdmwtnTZ"
      },
      "source": [
        "from google.colab import drive\n",
        "drive.mount('/content/drive')"
      ],
      "execution_count": null,
      "outputs": []
    },
    {
      "cell_type": "code",
      "metadata": {
        "id": "Zoapq4PetvNv"
      },
      "source": [
        "import numpy as np\n",
        "import pandas as pd\n",
        "import matplotlib.pyplot as plt"
      ],
      "execution_count": null,
      "outputs": []
    }
  ]
}