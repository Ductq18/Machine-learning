{
  "nbformat": 4,
  "nbformat_minor": 0,
  "metadata": {
    "colab": {
      "name": "5_GeneticAlgorthm.ipynb",
      "provenance": [],
      "collapsed_sections": [],
      "toc_visible": true
    },
    "kernelspec": {
      "name": "python3",
      "display_name": "Python 3"
    }
  },
  "cells": [
    {
      "cell_type": "markdown",
      "metadata": {
        "id": "KxvhLCTFddAY"
      },
      "source": [
        "## **INTRODUCTION**\n",
        "Chủ đề ngày hôm nay làm tôi nhớ đến một câu chuyện cảm động có thật được chuyển thể thành phim, bộ phim đó nói đến **Alan Turing**. Ông được xem là cha đẻ của **khoa học máy tính và Trí Tuệ Nhân Tạo** <br/>\n",
        "\n",
        "Bối cảnh nói đến cuộc chiến tranh thế giới thứ 2 khốc liệt, thời điểm mà vị công thần **Alan Turing** đã góp công cho sự chấm dứt chiến tranh thế giới thứ 2. Theo các nhà sử học thì nhờ ông mà chiến tranh thế giới thứ 2 kết thúc sớm ít nhất 2 năm và cứu sống hơn 14 triệu người. Thời điểm đó ông đã thành công việc giải mã **bộ máy enigma**, đó là bộ máy mã hoá thông tin của phát xít Đức dùng để liên lạc những thông tin mật, ảnh hưởng trực tiếp đến khắp tất cả các chiến trường.\n",
        "\n",
        "Người ta ước tính có 159 triệu triệu triệu khả năng xảy ra để giải mã được thông tin của phát xít Đức, và mỗi ngày nếu không giải ra được thì con số đó lại tiếp tục lặp lại. Cả thế giới lúc đó đều bó tay cho bài toán và cỗ máy này. Tư tưởng sai lầm là người ta sử dụng con người tính toán và chiến đấu lại với một cỗ máy. Và rồi một nhà toán học ở đại học Cambridge chính là **Alan Turing**, ông có ý tưởng là sử dụng một cỗ máy christopher mạnh hơn để đánh với bộ máy enigma này. Ban đầu không ai tin ông cả, để rồi may mắn gặp được thủ tướng và nhận được nguồn đầu tư. Và cuối cùng ông hoàn thành cỗ máy christopher đó và hoàn tất việc giải mã. \n",
        "Tuy nhiên mọi công việc của ông được giữ kín, chưa kể thời đó con người ta có một số quan niệm cổ hũ làm cho ông phải chịu tiêm hooc-mon triệt sản một thời gian và sinh ra chứng trầm cảm để rồi tự tử năm ông 41 tuổi. Và mãi 50 năm sau câu chuyện anh hùng của ông mới được đem ra trước bình minh 😓\n",
        "\n",
        "Bộ phim rất hay và cảm động bạn có thể xem ở đây: [NGƯỜI GIẢI MÃ](http://www.phimmoizz.net/phim/nguoi-giai-ma-2377/)\n",
        "\n",
        "Quay lại với chủ đề hôm nay, nếu chúng ta xử lý bài toán thực hiện tìm kiếm random, thử tất cả các trường hợp để khớp với **kết quả đã cho** thì chúng ta thật không thông minh và không hợp lý chút nào. Điều không hợp lý ở đây là **có kết quả** thì cần gì chúng ta phải giải nữa, tức là nếu biết nội dung bức thư của quân phát xít nói gì thì cần gì việc giải mã bức thư đó và chế tạo cỗ máy christopher@@\n",
        "\n",
        "Ngày hôm nay tôi xin giới thiệu cho các bạn một phiên bản **mini christopher fake** sử dụng thuật toán **Genetic Algorthm** để giải quyết việc đưa ra lời giải tối ưu cho bài toán.\n",
        "\n",
        "\n",
        "\n",
        "\n"
      ]
    },
    {
      "cell_type": "markdown",
      "metadata": {
        "id": "chED3oTRuYLu"
      },
      "source": [
        "# **Genetic Algorthm**\n",
        "> Write by Quang Duc"
      ]
    },
    {
      "cell_type": "markdown",
      "metadata": {
        "id": "3G9hL5sUuiIc"
      },
      "source": [
        "### **NỘI DUNG:** \n",
        "\n",
        "1. Random Search\n",
        "2. Genetic Algorithm"
      ]
    },
    {
      "cell_type": "markdown",
      "metadata": {
        "id": "0q1JxRrdQQ3C"
      },
      "source": [
        "---------------------"
      ]
    },
    {
      "cell_type": "markdown",
      "metadata": {
        "id": "toHPs3oSQRZp"
      },
      "source": [
        "### **1.Random Search**"
      ]
    },
    {
      "cell_type": "markdown",
      "metadata": {
        "id": "17repTqUQVtg"
      },
      "source": [
        "**Bài toán one-max**\n",
        "\n",
        "Giả thiết: \n",
        "\n",
        "*   Cho vector v độ dài n chỉ chứa 0,1\n",
        "*   **Hàm secret** cho biết vector chứa số phần tử 1\n",
        "\n",
        "Hãy cho biết vector có chứa nhiều phần tử 1 nhất?\n",
        "\n",
        "![](https://i.imgur.com/XHHqLk1.png)\n",
        "\n",
        "Bài toán quá đơn giản đối với con người chúng ta vì rõ ràng vector chứa nhiều phần tử 1 nhất là vector mà các phần tử đều là số 1 😁\n",
        "![](https://i.imgur.com/JOUsFyF.png)\n",
        "\n",
        "Tuy nhiên đứng ở góc nhìn là 1 cái máy tính thì input là giả thiết đã cho gồm vector chỉ chứa 0,1 và 1 hàm đánh giá. Làm sao tìm được vector đúng như yêu cầu bài toán?\n",
        "\n",
        "Cách dummy nhất là ta sử dụng Random Search: \n",
        "\n",
        "1. Khởi tạo giá trị max = 0\n",
        "2. Tạo 1 vector và random n giá trị của nó\n",
        "3. Sử dụng hàm secret và ghi nhận giá trị max\n",
        "4. Lặp lại một số lần cho đến khi kết thúc vòng lặp.\n",
        "\n",
        "Ta có thể cải tiến, thay vì chỉ tạo 1 vector và random nó thì ta có thể tạo m vector rồi thực hiện tương tự\n",
        "\n",
        "1. Khởi tạo giá trị max = 0\n",
        "2. Tạo m vector và random giá trị từng vector\n",
        "3. Sử dụng hàm secret cho toàn bộ m vector và ghi nhận giá trị max\n",
        "4. Lặp lại một số lần cho đến khi kết thúc vòng lặp.\n",
        "\n",
        "![](https://i.imgur.com/cDEuruN.png)\n",
        "\n",
        "Thực tế kết quả quá tệ, tôi mong chờ nơi tình yêu bắt đầu ở vòng lặp thứ 1000 để được max = 10(giá trị mong muốn) nhưng tất cả các vector đại diện là mỗi chấm đã không như ý tôi muốn, thậm chí còn thua m vector ban đầu. Max của tôi nhận được chỉ là 8\n",
        "\n",
        "Ở đây tôi cải tiến thuật toán random search bằng cách **tôi sử dụng m vector ban đầu và di truyền sang thế hệ m vector kế tiếp. Và mong chờ thế hệ tiếp theo sẽ tốt hơn.**\n",
        "\n",
        "![](https://i.imgur.com/uvM2f91.png)\n",
        "\n",
        "\n",
        "Và bằng ý tưởng di truyền của Darwin, người ta cho ra đời thuật toán **Genetic Algorithm**"
      ]
    },
    {
      "cell_type": "markdown",
      "metadata": {
        "id": "7D7Fp68opook"
      },
      "source": [
        "---"
      ]
    },
    {
      "cell_type": "markdown",
      "metadata": {
        "id": "zlfwEKAIf2VQ"
      },
      "source": [
        "### **2.Genetic Algorithm**"
      ]
    },
    {
      "cell_type": "markdown",
      "metadata": {
        "id": "e0jFpG_-f5lB"
      },
      "source": [
        "Quay trở lại với bài toán one-max và sơ đồ khối miêu tả cải tiến thuật toán Random search\n",
        "\n",
        "![](https://i.imgur.com/uvM2f91.png)\n",
        "\n",
        "\n",
        "Và đây là thuật toán Genetic Algorithm bằng cách thay thế phần di truyền bằng 3 bước: chọn lọc, lai ghép, đột biến\n",
        "\n",
        "![](https://i.imgur.com/ldeCGtC.png)\n",
        "\n"
      ]
    },
    {
      "cell_type": "markdown",
      "metadata": {
        "id": "u8oNTrsLniWM"
      },
      "source": [
        "Lý thuyết chán rồi. \n",
        "\n",
        "“Talk is cheap. Show me the code.” @@"
      ]
    },
    {
      "cell_type": "markdown",
      "metadata": {
        "id": "Cxfjrsn7pmnW"
      },
      "source": [
        "---"
      ]
    },
    {
      "cell_type": "markdown",
      "metadata": {
        "id": "k7IE9SxdoGq7"
      },
      "source": [
        "### **3.BÀI TẬP**"
      ]
    },
    {
      "cell_type": "markdown",
      "metadata": {
        "id": "TLKaA54VocuS"
      },
      "source": [
        "#### **Class GA_algorithm**\n",
        "sử dụng cho các bài toán, chúng ta chỉ cần viết lại hàm secret"
      ]
    },
    {
      "cell_type": "code",
      "metadata": {
        "id": "4a2fzR8WoY3K"
      },
      "source": [
        "\n",
        "import numpy as np\n",
        "import matplotlib.pyplot as plt\n",
        "\n",
        "class GA_algorithm():\n",
        "    '''\n",
        "    return:\n",
        "        class aims find parameter optimal for problem\n",
        "    \n",
        "    Parameter: \n",
        "        nGen : số lượng gen trong 1 cá thể\n",
        "        rangeOfGen: range value của 1 gen\n",
        "        nIndividual: số lượng cá thể trong 1 quần thể\n",
        "        nIterator: số epoch\n",
        "        rateCross: tỷ lệ cross over\n",
        "        rateMutate: tỷ lệ Mutation\n",
        "        typeRandom: 1 is int and 0 is float\n",
        "    '''\n",
        "    def __init__(self, nGen, rangeOfGen, nIndividual, nIterator, typeRandom = 0, \n",
        "                 rateCross=0.9, rateMutate=0.05, elitism = 2):\n",
        "        self.nGen = nGen\n",
        "        self.rangeOfGen = rangeOfGen\n",
        "        self.nIndividual = nIndividual\n",
        "        self.nIterator = nIterator\n",
        "        self.rateCross = rateCross\n",
        "        self.rateMutate = rateMutate\n",
        "        self.elitism = elitism\n",
        "        self.nIterator = nIterator\n",
        "        self.getOptimal = None\n",
        "        self.losses = []\n",
        "        self.typeRandom = typeRandom\n",
        "    \n",
        "    def getIndividual(self):\n",
        "        if self.typeRandom:\n",
        "            return np.random.randint(self.rangeOfGen[0],self.rangeOfGen[1]+1, self.nGen)\n",
        "        return np.random.uniform(self.rangeOfGen[0],self.rangeOfGen[1], self.nGen)\n",
        "    \n",
        "    # Khởi tạo quần thể BỘ THAM SỐ\n",
        "    def getPopulation(self):\n",
        "        return np.array([self.getIndividual() for _ in range(self.nIndividual)])\n",
        "    \n",
        "    # Chọn 1 BỘ THAM SỐ\n",
        "    def selectionIndiviual(self, population, funcCost):\n",
        "        cost = funcCost(population)\n",
        "        index = np.random.choice(self.nIndividual, \n",
        "                                 self.nIndividual,\n",
        "                                 p = cost/cost.sum())\n",
        "\n",
        "        return population[index]\n",
        "\n",
        "    # Chéo 2 BỘ THAM SỐ\n",
        "    def crossIndividual(self, individual1, individual2):\n",
        "        prob= np.random.random(size = self.nGen) < self.rateCross\n",
        "        \n",
        "        individual1[prob], individual2[prob] = individual2[prob], individual1[prob].copy()\n",
        "        \n",
        "        return individual1, individual2\n",
        "    \n",
        "    # Đột biến 1 BỘ THAM SỐ\n",
        "    def mutateIndividual(self, individual):\n",
        "        prob= np.random.random(size = self.nGen) < self.rateMutate\n",
        "        individual[prob] = self.getIndividual()[prob]\n",
        "        return individual\n",
        "    \n",
        "    # tối ưu BỘ THAM SỐ từ việc chạy lại nhiều lần\n",
        "    def optimal(self, funcCost):\n",
        "        population = self.getPopulation()\n",
        "        for _ in range(self.nIterator):\n",
        "            population = self.selectionIndiviual(population, funcCost)\n",
        "            \n",
        "            for i in range(self.nIndividual//2 - 2):\n",
        "                \n",
        "                in1 = population[np.random.randint(0,self.nIndividual)]\n",
        "                in2 = population[np.random.randint(0,self.nIndividual)]\n",
        "                \n",
        "                in1,in2 = self.crossIndividual(in1.copy(),in2.copy())\n",
        "                \n",
        "                in1 = self.mutateIndividual(in1)\n",
        "                in2 = self.mutateIndividual(in2)\n",
        "                \n",
        "                population[i*2] = in1\n",
        "                population[i*2+1] = in2\n",
        "            \n",
        "            indexMax = funcCost(population).argsort()[-2:]\n",
        "            population[-2] = population[indexMax[0]]\n",
        "            population[-1] = population[indexMax[1]]\n",
        "            \n",
        "            self.losses.append(1/(funcCost(population)[-1]+1))\n",
        "            \n",
        "        self.getOptimal = population[-1]\n",
        "        \n",
        "        return self.getOptimal\n",
        "    #=========================================\n",
        "    \n",
        "    # Quan sát đồ thị\n",
        "    def showGraphLosses(self):\n",
        "        if (self.losses == []):\n",
        "            print(\"you need run optimal Function!!\")\n",
        "            return\n",
        "        \n",
        "        plt.plot(self.losses)\n",
        "        plt.show()\n"
      ],
      "execution_count": null,
      "outputs": []
    },
    {
      "cell_type": "markdown",
      "metadata": {
        "id": "kMzMHqw29JKL"
      },
      "source": [
        "#### **Dataset**: [here](https://drive.google.com/drive/folders/1-G-cR1saI9Nz1N-9gS37ROQ_v5xSUYUT?usp=sharing)"
      ]
    },
    {
      "cell_type": "markdown",
      "metadata": {
        "id": "omP3OwPpnuB0"
      },
      "source": [
        "#### **a) One-Max**"
      ]
    },
    {
      "cell_type": "code",
      "metadata": {
        "id": "bfHpeHtIf5Iv",
        "colab": {
          "base_uri": "https://localhost:8080/",
          "height": 282
        },
        "outputId": "a0e874e4-8baa-40d7-8c67-bb829ad9bad3"
      },
      "source": [
        "binaryMax = GA_algorithm(nGen = 10, rangeOfGen = (0,1), \n",
        "                           nIndividual=100, nIterator=100, typeRandom = 1)\n",
        "def One_Max(x):\n",
        "    return np.sum(x, axis=1)\n",
        "    \n",
        "print(\"individual optimal = \", binaryMax.optimal(One_Max))\n",
        "binaryMax.showGraphLosses()"
      ],
      "execution_count": null,
      "outputs": [
        {
          "output_type": "stream",
          "text": [
            "individual optimal =  [1 1 1 1 1 1 1 1 1 1]\n"
          ],
          "name": "stdout"
        },
        {
          "output_type": "display_data",
          "data": {
            "image/png": "[encoded data removed]",
            "text/plain": [
              "<Figure size 432x288 with 1 Axes>"
            ]
          },
          "metadata": {
            "tags": [],
            "needs_background": "light"
          }
        }
      ]
    },
    {
      "cell_type": "markdown",
      "metadata": {
        "id": "utsNJWdwqani"
      },
      "source": [
        "#### **b) MinSphere**"
      ]
    },
    {
      "cell_type": "code",
      "metadata": {
        "id": "3RZ4oO-TotW1",
        "colab": {
          "base_uri": "https://localhost:8080/",
          "height": 282
        },
        "outputId": "b4773cfb-1a37-4d2a-a263-68a356e561c8"
      },
      "source": [
        "#============  SỬA Ở ĐÂY  ================\n",
        "# Đánh giá loss, error của giá trị dự đoán so với giá trị thật (MIN)\n",
        "def funcCall(population):\n",
        "    fitness = np.sum(population*population, axis=1)\n",
        "    \n",
        "    return 1/(1 + fitness) # Đảo lại thành max để khớp với hàm sorted\n",
        "#=========================================\n",
        "\n",
        "minSphere = GA_algorithm(nGen = 4, rangeOfGen = (0,100), nIndividual=100, nIterator=100)\n",
        "print(\"individual optimal = \", minSphere.optimal(funcCall))\n",
        "minSphere.showGraphLosses()"
      ],
      "execution_count": null,
      "outputs": [
        {
          "output_type": "stream",
          "text": [
            "individual optimal =  [0.05379635 0.21521592 0.12061737 0.21372458]\n"
          ],
          "name": "stdout"
        },
        {
          "output_type": "display_data",
          "data": {
            "image/png": "[encoded data removed]",
            "text/plain": [
              "<Figure size 432x288 with 1 Axes>"
            ]
          },
          "metadata": {
            "tags": [],
            "needs_background": "light"
          }
        }
      ]
    },
    {
      "cell_type": "markdown",
      "metadata": {
        "id": "hsBjveDYqp39"
      },
      "source": [
        "#### **c) Knapsack**"
      ]
    },
    {
      "cell_type": "code",
      "metadata": {
        "id": "obYRwKwJpIwx",
        "colab": {
          "base_uri": "https://localhost:8080/",
          "height": 298
        },
        "outputId": "26df5e16-f8ce-459f-d07f-7728dc7b3e22"
      },
      "source": [
        "weights = np.array([1, 2, 5, 7, 10, 12, 15, 23, 32, 33, 35, 37])  # can nang cac vat\n",
        "prices =  np.array([1, 3, 6, 7, 12, 15, 25, 32, 44, 45, 47, 50])  # gia tri cua cac vat tuong ung\n",
        "maxWeight = 70\n",
        "\n",
        "\n",
        "def funcCost(population):\n",
        "    weight = np.sum(population*weights, axis = 1)\n",
        "    price = np.sum(population*prices, axis = 1)\n",
        "    for i in range(len(population)):\n",
        "        if weight[i] > maxWeight:\n",
        "            price[i] = 1/100000 \n",
        "                    \n",
        "    return price\n",
        "\n",
        "travelOpimal = GA_algorithm(12, (0,1), 200, 100, 1)\n",
        "travelOpimal.optimal(funcCost)\n",
        "travelOpimal.showGraphLosses()\n",
        "print(\"individual optimal = \", travelOpimal.getOptimal)\n",
        "print(np.sum(travelOpimal.getOptimal*prices))"
      ],
      "execution_count": null,
      "outputs": [
        {
          "output_type": "display_data",
          "data": {
            "image/png": "[encoded data removed]",
            "text/plain": [
              "<Figure size 432x288 with 1 Axes>"
            ]
          },
          "metadata": {
            "tags": [],
            "needs_background": "light"
          }
        },
        {
          "output_type": "stream",
          "text": [
            "individual optimal =  [1 1 1 0 0 1 1 0 0 0 1 0]\n",
            "97\n"
          ],
          "name": "stdout"
        }
      ]
    },
    {
      "cell_type": "markdown",
      "metadata": {
        "id": "41D5YOWFquqx"
      },
      "source": [
        "#### **d) Travelling**"
      ]
    },
    {
      "cell_type": "code",
      "metadata": {
        "id": "lxG7c2O3pRFU",
        "colab": {
          "base_uri": "https://localhost:8080/",
          "height": 298
        },
        "outputId": "ddcaa074-3198-4d94-a452-37a92c1d8661"
      },
      "source": [
        "data = np.array([[1000,12,1000,5,7],\n",
        "[12,1000,14,1000,18],\n",
        "[1000,14,1000,6,19],\n",
        "[5,1000,6,1000,2],\n",
        "[7,18,19,2,1000]])\n",
        "\n",
        "def funcCall(population):\n",
        "    cost = np.sum(data[population[:,0:-1] - 1,population[:,1:] - 1], axis=1)\n",
        "    cost += data[population[:,-1] - 1,population[:,0] - 1]\n",
        "    idx = [len(np.unique(i)) != len(i) for i in population]\n",
        "    cost[idx] = 100000\n",
        "\n",
        "    return 1/cost\n",
        "\n",
        "travelOpimal = GA_algorithm(5, (1,5), 1000, 20, 1)\n",
        "travelOpimal.optimal(funcCall)\n",
        "travelOpimal.showGraphLosses()\n",
        "a = travelOpimal.getOptimal\n",
        "cost = np.sum(data[a[0:-1] - 1,a[1:] - 1])\n",
        "cost += data[a[-1] - 1,a[0] - 1]\n",
        "print(a)\n",
        "print(cost)"
      ],
      "execution_count": null,
      "outputs": [
        {
          "output_type": "display_data",
          "data": {
            "image/png": "[encoded data removed]",
            "text/plain": [
              "<Figure size 432x288 with 1 Axes>"
            ]
          },
          "metadata": {
            "tags": [],
            "needs_background": "light"
          }
        },
        {
          "output_type": "stream",
          "text": [
            "[2 1 5 4 3]\n",
            "41.0\n"
          ],
          "name": "stdout"
        }
      ]
    },
    {
      "cell_type": "markdown",
      "metadata": {
        "id": "wx-jKPyuq2pK"
      },
      "source": [
        "#### **e) advertising**"
      ]
    },
    {
      "cell_type": "code",
      "metadata": {
        "id": "nNR4j6blqHc9",
        "colab": {
          "base_uri": "https://localhost:8080/",
          "height": 298
        },
        "outputId": "bf693fb6-e5e7-4f52-afd5-36928e767ea6"
      },
      "source": [
        "data = np.genfromtxt('/content/drive/My Drive/Colab Notebooks/AI_Zumpzero_lv1/dataset/GA/advertising.csv', delimiter=',', skip_header=1)\n",
        "\n",
        "features, yTruth = data[:, :-1], data[:, -1]\n",
        "features = np.append(features, np.ones((len(data), 1)), axis=1)\n",
        "\n",
        "\n",
        "def funcCall(population):\n",
        "    fitness = np.zeros(population.shape[0])\n",
        "    \n",
        "    for i in range(population.shape[0]):\n",
        "        y_predict = np.dot(features, population[i])\n",
        "        fitness[i] = np.sum(y_predict - yTruth) ** 2\n",
        "\n",
        "    return 1 / (1 + fitness)\n",
        "\n",
        "\n",
        "advertising = GA_algorithm(nGen=4, rangeOfGen=(0, 1), nIndividual=50, nIterator=50)\n",
        "print(\"individual optimal = \", advertising.optimal(funcCall))\n",
        "advertising.showGraphLosses()\n",
        "advertising.getOptimal"
      ],
      "execution_count": null,
      "outputs": [
        {
          "output_type": "stream",
          "text": [
            "individual optimal =  [0.00860448 0.15511179 0.31695248 0.56484972]\n"
          ],
          "name": "stdout"
        },
        {
          "output_type": "display_data",
          "data": {
            "image/png": "[encoded data removed]",
            "text/plain": [
              "<Figure size 432x288 with 1 Axes>"
            ]
          },
          "metadata": {
            "tags": [],
            "needs_background": "light"
          }
        },
        {
          "output_type": "execute_result",
          "data": {
            "text/plain": [
              "array([0.00860448, 0.15511179, 0.31695248, 0.56484972])"
            ]
          },
          "metadata": {
            "tags": []
          },
          "execution_count": 66
        }
      ]
    },
    {
      "cell_type": "code",
      "metadata": {
        "id": "mWabUBsrtCEM"
      },
      "source": [
        ""
      ],
      "execution_count": null,
      "outputs": []
    }
  ]
}